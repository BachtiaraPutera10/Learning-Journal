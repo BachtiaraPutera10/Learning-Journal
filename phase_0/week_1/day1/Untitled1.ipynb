{
 "cells": [
  {
   "cell_type": "markdown",
   "metadata": {},
   "source": [
    "PENGENALAN PYTHON"
   ]
  },
  {
   "cell_type": "code",
   "execution_count": 12,
   "metadata": {},
   "outputs": [
    {
     "name": "stdout",
     "output_type": "stream",
     "text": [
      "7\n"
     ]
    },
    {
     "data": {
      "text/plain": [
       "int"
      ]
     },
     "execution_count": 12,
     "metadata": {},
     "output_type": "execute_result"
    }
   ],
   "source": [
    "# numerik : integer, float, complex\n",
    "\n",
    "# integer \n",
    "\n",
    "angka = 7\n",
    "print(angka)\n",
    "type(angka)"
   ]
  },
  {
   "cell_type": "code",
   "execution_count": 13,
   "metadata": {},
   "outputs": [
    {
     "name": "stdout",
     "output_type": "stream",
     "text": [
      "46\n"
     ]
    },
    {
     "data": {
      "text/plain": [
       "int"
      ]
     },
     "execution_count": 13,
     "metadata": {},
     "output_type": "execute_result"
    }
   ],
   "source": [
    "angka  = 46 \n",
    "print(angka)\n",
    "type(angka)"
   ]
  },
  {
   "cell_type": "code",
   "execution_count": 14,
   "metadata": {},
   "outputs": [
    {
     "name": "stdout",
     "output_type": "stream",
     "text": [
      "7.0\n"
     ]
    },
    {
     "data": {
      "text/plain": [
       "float"
      ]
     },
     "execution_count": 14,
     "metadata": {},
     "output_type": "execute_result"
    }
   ],
   "source": [
    "angka_kedua = 7.0\n",
    "print(angka_kedua)\n",
    "type(angka_kedua)"
   ]
  },
  {
   "cell_type": "code",
   "execution_count": 9,
   "metadata": {},
   "outputs": [
    {
     "name": "stdout",
     "output_type": "stream",
     "text": [
      "Nama kamu adalah : BAchtiar dan usia kamu adalah 23\n"
     ]
    }
   ],
   "source": [
    "nama = input(\"Masukkan nama Anda :  \")\n",
    "usia = input(\"Masukkan usia Anda :  \")\n",
    "print(f\"Nama kamu adalah : {nama} dan usia kamu adalah {usia}\")"
   ]
  },
  {
   "cell_type": "code",
   "execution_count": 10,
   "metadata": {},
   "outputs": [
    {
     "name": "stdout",
     "output_type": "stream",
     "text": [
      "Hasil Perhitungan : 166\n"
     ]
    }
   ],
   "source": [
    "angka_1 = input(\"Masukkan Angka Pertama : \")\n",
    "angka_1 = eval(angka_1)\n",
    "angka_2 = input(\"Masukkan Angka Kedua : \")\n",
    "angka_2 = eval(angka_2)\n",
    "print(f\"Hasil Perhitungan : {angka_1 + angka_2}\")\n"
   ]
  },
  {
   "cell_type": "code",
   "execution_count": 11,
   "metadata": {},
   "outputs": [
    {
     "name": "stdout",
     "output_type": "stream",
     "text": [
      "pesanan anda : ['Geprek Kak Rose', 'Es Teh', 'DImsum']\n"
     ]
    }
   ],
   "source": [
    "pesanan = []\n",
    "pesan = input(\"Masukkan pesanan pertama : \")\n",
    "pesanan.append(pesan)\n",
    "pesan = input(\"Masukkan pesanan kedua : \")\n",
    "pesanan.append(pesan)\n",
    "pesan = input(\"Masukkan pesanan ketiga : \")\n",
    "pesanan.append(pesan)\n",
    "print(f\"pesanan anda : {pesanan}\")"
   ]
  }
 ],
 "metadata": {
  "kernelspec": {
   "display_name": "Python 3",
   "language": "python",
   "name": "python3"
  },
  "language_info": {
   "codemirror_mode": {
    "name": "ipython",
    "version": 3
   },
   "file_extension": ".py",
   "mimetype": "text/x-python",
   "name": "python",
   "nbconvert_exporter": "python",
   "pygments_lexer": "ipython3",
   "version": "3.8.3"
  },
  "vscode": {
   "interpreter": {
    "hash": "ad2bdc8ecc057115af97d19610ffacc2b4e99fae6737bb82f5d7fb13d2f2c186"
   }
  }
 },
 "nbformat": 4,
 "nbformat_minor": 4
}
